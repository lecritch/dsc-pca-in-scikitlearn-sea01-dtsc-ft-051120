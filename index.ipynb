{
 "cells": [
  {
   "cell_type": "markdown",
   "metadata": {},
   "source": [
    "# Principal Component Analysis in scikit-learn\n",
    "\n",
    "## Introduction\n",
    "\n",
    "Now that you've seen the curse of dimensionality, it's time to take a look at a dimensionality reduction technique! This will help you overcome the challenges of the curse of dimensionality (amongst other things). Essentially, PCA, or Principal Component Analysis, attempts to capture as much information from the dataset as possible while reducing the overall number of features.\n",
    "\n",
    "## Objectives\n",
    "\n",
    "You will be able to:\n",
    "\n",
    "- Explain at a high level how PCA works \n",
    "- Explain use cases for PCA \n",
    "- Implement PCA using the scikit-learn library \n",
    "- Determine the optimal number of n components when performing PCA by observing the explained variance \n",
    "\n",
    "\n",
    "## Generate some data\n",
    "\n",
    "First, you need some data to perform PCA on. With that, here's a quick dataset you can generate using NumPy:"
   ]
  },
  {
   "cell_type": "code",
   "execution_count": 1,
   "metadata": {
    "collapsed": true,
    "jupyter": {
     "outputs_hidden": true
    }
   },
   "outputs": [
    {
     "data": {
      "text/plain": [
       "matrix([[-10.        , -20.4464651 ],\n",
       "        [ -9.7979798 , -19.90075863],\n",
       "        [ -9.5959596 , -18.87993264],\n",
       "        [ -9.39393939, -19.134954  ],\n",
       "        [ -9.19191919, -17.76867858],\n",
       "        [ -8.98989899, -17.8552961 ],\n",
       "        [ -8.78787879, -17.73608626],\n",
       "        [ -8.58585859, -17.52057705],\n",
       "        [ -8.38383838, -16.6740838 ],\n",
       "        [ -8.18181818, -15.8973656 ],\n",
       "        [ -7.97979798, -16.28490492],\n",
       "        [ -7.77777778, -16.1734203 ],\n",
       "        [ -7.57575758, -15.10408575],\n",
       "        [ -7.37373737, -15.13272082],\n",
       "        [ -7.17171717, -15.18335549],\n",
       "        [ -6.96969697, -14.34624249],\n",
       "        [ -6.76767677, -13.74592532],\n",
       "        [ -6.56565657, -12.85640098],\n",
       "        [ -6.36363636, -12.62102973],\n",
       "        [ -6.16161616, -12.24347461],\n",
       "        [ -5.95959596, -11.75247987],\n",
       "        [ -5.75757576, -11.53617697],\n",
       "        [ -5.55555556, -10.76355984],\n",
       "        [ -5.35353535,  -9.81643567],\n",
       "        [ -5.15151515,  -9.99665456],\n",
       "        [ -4.94949495,  -9.07273562],\n",
       "        [ -4.74747475,  -9.06707496],\n",
       "        [ -4.54545455,  -9.70034572],\n",
       "        [ -4.34343434,  -9.18057682],\n",
       "        [ -4.14141414,  -8.83943105],\n",
       "        [ -3.93939394,  -8.18300554],\n",
       "        [ -3.73737374,  -7.59994918],\n",
       "        [ -3.53535354,  -7.49276752],\n",
       "        [ -3.33333333,  -6.88996332],\n",
       "        [ -3.13131313,  -5.76105658],\n",
       "        [ -2.92929293,  -5.73609745],\n",
       "        [ -2.72727273,  -5.16312362],\n",
       "        [ -2.52525253,  -6.33134786],\n",
       "        [ -2.32323232,  -4.41864348],\n",
       "        [ -2.12121212,  -4.31317751],\n",
       "        [ -1.91919192,  -3.74635711],\n",
       "        [ -1.71717172,  -3.58408865],\n",
       "        [ -1.51515152,  -3.78329508],\n",
       "        [ -1.31313131,  -2.42724582],\n",
       "        [ -1.11111111,  -1.3884289 ],\n",
       "        [ -0.90909091,  -1.92269438],\n",
       "        [ -0.70707071,  -2.08903869],\n",
       "        [ -0.50505051,  -1.38352294],\n",
       "        [ -0.3030303 ,  -0.93305513],\n",
       "        [ -0.1010101 ,   0.49674076],\n",
       "        [  0.1010101 ,  -0.46514163],\n",
       "        [  0.3030303 ,   0.59884306],\n",
       "        [  0.50505051,  -0.2940537 ],\n",
       "        [  0.70707071,   1.44907136],\n",
       "        [  0.90909091,   1.76648134],\n",
       "        [  1.11111111,   2.72149251],\n",
       "        [  1.31313131,   3.09053143],\n",
       "        [  1.51515152,   2.76059551],\n",
       "        [  1.71717172,   2.80647402],\n",
       "        [  1.91919192,   3.92192415],\n",
       "        [  2.12121212,   4.20862024],\n",
       "        [  2.32323232,   5.1254639 ],\n",
       "        [  2.52525253,   4.88812803],\n",
       "        [  2.72727273,   5.81095083],\n",
       "        [  2.92929293,   5.9543218 ],\n",
       "        [  3.13131313,   6.27370446],\n",
       "        [  3.33333333,   6.74769315],\n",
       "        [  3.53535354,   6.8078157 ],\n",
       "        [  3.73737374,   6.47441541],\n",
       "        [  3.93939394,   8.25570459],\n",
       "        [  4.14141414,   7.88460976],\n",
       "        [  4.34343434,   8.95803151],\n",
       "        [  4.54545455,   9.12649487],\n",
       "        [  4.74747475,   9.57786124],\n",
       "        [  4.94949495,   9.86449489],\n",
       "        [  5.15151515,  10.4560292 ],\n",
       "        [  5.35353535,  10.58062132],\n",
       "        [  5.55555556,  12.30198358],\n",
       "        [  5.75757576,  11.49063102],\n",
       "        [  5.95959596,  12.18045694],\n",
       "        [  6.16161616,  12.46862559],\n",
       "        [  6.36363636,  12.10922181],\n",
       "        [  6.56565657,  13.50856326],\n",
       "        [  6.76767677,  13.66031349],\n",
       "        [  6.96969697,  12.98617261],\n",
       "        [  7.17171717,  14.21156352],\n",
       "        [  7.37373737,  14.47112734],\n",
       "        [  7.57575758,  15.24699731],\n",
       "        [  7.77777778,  16.70839276],\n",
       "        [  7.97979798,  16.52195249],\n",
       "        [  8.18181818,  16.40548228],\n",
       "        [  8.38383838,  16.71686867],\n",
       "        [  8.58585859,  16.15772121],\n",
       "        [  8.78787879,  17.54665885],\n",
       "        [  8.98989899,  17.23237469],\n",
       "        [  9.19191919,  18.9625183 ],\n",
       "        [  9.39393939,  18.82768987],\n",
       "        [  9.5959596 ,  19.32993125],\n",
       "        [  9.7979798 ,  19.9453178 ],\n",
       "        [ 10.        ,  20.08145565]])"
      ]
     },
     "execution_count": 1,
     "metadata": {},
     "output_type": "execute_result"
    }
   ],
   "source": [
    "import numpy as np\n",
    "\n",
    "x1 = np.linspace(-10, 10, 100)\n",
    "# A linear relationship, plus a little noise\n",
    "x2 = np.array([xi*2 + np.random.normal(loc=0, scale=0.5) for xi in x1]) \n",
    "\n",
    "X = np.matrix(list(zip(x1, x2)))\n",
    "X"
   ]
  },
  {
   "cell_type": "markdown",
   "metadata": {},
   "source": [
    "Let's also generate a quick plot of this simple dataset to further orient ourselves:"
   ]
  },
  {
   "cell_type": "code",
   "execution_count": 2,
   "metadata": {},
   "outputs": [
    {
     "data": {
      "image/png": "[encoded data removed]",
      "text/plain": [
       "<Figure size 432x288 with 1 Axes>"
      ]
     },
     "metadata": {},
     "output_type": "display_data"
    }
   ],
   "source": [
    "import matplotlib.pyplot as plt\n",
    "import seaborn as sns\n",
    "%matplotlib inline\n",
    "\n",
    "sns.set_style('darkgrid')\n",
    "\n",
    "plt.scatter(x1, x2);"
   ]
  },
  {
   "cell_type": "markdown",
   "metadata": {},
   "source": [
    "## PCA with scikit-learn\n",
    "\n",
    "Now onto PCA. First, take a look at how simple it is to implement PCA with scikit-learn:"
   ]
  },
  {
   "cell_type": "code",
   "execution_count": 3,
   "metadata": {},
   "outputs": [],
   "source": [
    "from sklearn.decomposition import PCA\n",
    "\n",
    "pca = PCA()\n",
    "transformed = pca.fit_transform(X)"
   ]
  },
  {
   "cell_type": "markdown",
   "metadata": {},
   "source": [
    "And you can once again plot the updated dataset:"
   ]
  },
  {
   "cell_type": "code",
   "execution_count": 4,
   "metadata": {},
   "outputs": [
    {
     "data": {
      "image/png": "[encoded data removed]",
      "text/plain": [
       "<Figure size 432x288 with 1 Axes>"
      ]
     },
     "metadata": {
      "needs_background": "light"
     },
     "output_type": "display_data"
    }
   ],
   "source": [
    "plt.scatter(transformed[:,0], transformed[:,1]);"
   ]
  },
  {
   "cell_type": "code",
   "execution_count": 5,
   "metadata": {},
   "outputs": [
    {
     "data": {
      "text/plain": [
       "array([[-0.44563608, -0.89521421],\n",
       "       [ 0.89521421, -0.44563608]])"
      ]
     },
     "execution_count": 5,
     "metadata": {},
     "output_type": "execute_result"
    }
   ],
   "source": [
    "pca.components_"
   ]
  },
  {
   "cell_type": "code",
   "execution_count": 6,
   "metadata": {},
   "outputs": [
    {
     "data": {
      "text/plain": [
       "array([ 7.10542736e-17, -3.45814799e-02])"
      ]
     },
     "execution_count": 6,
     "metadata": {},
     "output_type": "execute_result"
    }
   ],
   "source": [
    "pca.mean_"
   ]
  },
  {
   "cell_type": "markdown",
   "metadata": {},
   "source": [
    "## Interpret Results\n",
    "\n",
    "Let's take a look at what went on here. PCA transforms the dataset along principal axes. The first of these axes is designed to capture the maximum variance within the data. From here, additional axes are constructed which are orthogonal to the previous axes and continue to account for as much of the remaining variance as possible.\n",
    "\n",
    "For the current 2-d case, the axes which the data were projected onto look like this:"
   ]
  },
  {
   "cell_type": "code",
   "execution_count": 7,
   "metadata": {},
   "outputs": [
    {
     "data": {
      "image/png": "[encoded data removed]",
      "text/plain": [
       "<Figure size 432x288 with 1 Axes>"
      ]
     },
     "metadata": {
      "needs_background": "light"
     },
     "output_type": "display_data"
    }
   ],
   "source": [
    "plt.scatter(x1, x2);\n",
    "ax1, ay1 = pca.mean_[0], pca.mean_[1]\n",
    "ax2, ay2 = pca.mean_[0] + pca.components_[0][0], pca.mean_[1] + pca.components_[0][1]\n",
    "ax3, ay3 = pca.mean_[0] + pca.components_[1][0], pca.mean_[1] + pca.components_[1][1]\n",
    "plt.plot([ax1, ax2], [ay1, ay2], color='red')\n",
    "plt.plot([ax2, ax3], [ay2, ay3], color='red');"
   ]
  },
  {
   "cell_type": "markdown",
   "metadata": {},
   "source": [
    "So, the updated graph you saw is the same dataset rotated onto these red axes:"
   ]
  },
  {
   "cell_type": "code",
   "execution_count": 8,
   "metadata": {},
   "outputs": [
    {
     "data": {
      "image/png": "[encoded data removed]",
      "text/plain": [
       "<Figure size 432x288 with 1 Axes>"
      ]
     },
     "metadata": {
      "needs_background": "light"
     },
     "output_type": "display_data"
    }
   ],
   "source": [
    "plt.scatter(transformed[:,0], transformed[:,1])\n",
    "plt.axhline(color='red')\n",
    "plt.axvline(color='red');"
   ]
  },
  {
   "cell_type": "markdown",
   "metadata": {},
   "source": [
    "Note the small scale of the y-axis. You can also plot the transformed dataset on the new axes with a scale similar to what you saw before:"
   ]
  },
  {
   "cell_type": "code",
   "execution_count": 9,
   "metadata": {
    "scrolled": true
   },
   "outputs": [
    {
     "data": {
      "image/png": "[encoded data removed]",
      "text/plain": [
       "<Figure size 432x288 with 1 Axes>"
      ]
     },
     "metadata": {
      "needs_background": "light"
     },
     "output_type": "display_data"
    }
   ],
   "source": [
    "plt.scatter(transformed[:,0], transformed[:,1])\n",
    "plt.axhline(color='red')\n",
    "plt.axvline(color='red')\n",
    "plt.ylim(-10,10);"
   ]
  },
  {
   "cell_type": "markdown",
   "metadata": {},
   "source": [
    "Again, this is the geographical interpretation of what just happened:  \n",
    "\n",
    "<img src=\"images/inhouse_pca.png\">"
   ]
  },
  {
   "cell_type": "markdown",
   "metadata": {},
   "source": [
    "## Determine the Explained Variance\n",
    "\n",
    "Typically, one would use PCA to actually reduce the number of dimensions. In this case, you've simply re-re-parametrized the dataset along new axes. That said, if you look at the first of these primary axes, you can see the patterns encapsulated by the principal component. Moreover, scikit-learn also lets you quickly determine the overall variance in the dataset accounted for in each of the principal components."
   ]
  },
  {
   "cell_type": "code",
   "execution_count": 10,
   "metadata": {},
   "outputs": [
    {
     "data": {
      "text/plain": [
       "array([9.99742300e-01, 2.57700374e-04])"
      ]
     },
     "execution_count": 10,
     "metadata": {},
     "output_type": "execute_result"
    }
   ],
   "source": [
    "pca.explained_variance_ratio_"
   ]
  },
  {
   "cell_type": "markdown",
   "metadata": {},
   "source": [
    "Keep in mind that these quantities are cumulative: principal component 2 attempts to account for the variance not accounted for in the primary component. You can view the total variance using `np.cumsum()`:"
   ]
  },
  {
   "cell_type": "code",
   "execution_count": 11,
   "metadata": {},
   "outputs": [
    {
     "data": {
      "text/plain": [
       "array([0.9997423, 1.       ])"
      ]
     },
     "execution_count": 11,
     "metadata": {},
     "output_type": "execute_result"
    }
   ],
   "source": [
    "np.cumsum(pca.explained_variance_ratio_)"
   ]
  },
  {
   "cell_type": "markdown",
   "metadata": {},
   "source": [
    "## Visualize the Principal Component\n",
    "\n",
    "To help demonstrate the structure captured by the first principal component, observe the impact of coloring the dataset and then visualizing the first component."
   ]
  },
  {
   "cell_type": "code",
   "execution_count": 12,
   "metadata": {},
   "outputs": [
    {
     "data": {
      "image/png": "[encoded data removed]",
      "text/plain": [
       "<Figure size 432x288 with 1 Axes>"
      ]
     },
     "metadata": {
      "needs_background": "light"
     },
     "output_type": "display_data"
    }
   ],
   "source": [
    "plt.scatter(x1,x2, c=sns.color_palette('RdBu', n_colors=100));"
   ]
  },
  {
   "cell_type": "code",
   "execution_count": 13,
   "metadata": {},
   "outputs": [
    {
     "data": {
      "image/png": "[encoded data removed]",
      "text/plain": [
       "<Figure size 432x288 with 1 Axes>"
      ]
     },
     "metadata": {
      "needs_background": "light"
     },
     "output_type": "display_data"
    }
   ],
   "source": [
    "plt.scatter(transformed[:,0], [0 for i in range(100)] , c=sns.color_palette('RdBu', n_colors=100));"
   ]
  },
  {
   "cell_type": "markdown",
   "metadata": {},
   "source": [
    "## Steps for Performing PCA\n",
    "\n",
    "The theory behind PCA rests upon many foundational concepts of linear algebra. After all, PCA is re-encoding a dataset into an alternative basis (the axes). Here are the exact steps:\n",
    "\n",
    "1. Recenter each feature of the dataset by subtracting that feature's mean from the feature vector\n",
    "2. Calculate the covariance matrix for your centered dataset\n",
    "3. Calculate the eigenvectors of the covariance matrix\n",
    "    1. You'll further investigate the concept of eigenvectors in the upcoming lesson\n",
    "4. Project the dataset into the new feature space: Multiply the eigenvectors by the mean-centered features"
   ]
  },
  {
   "cell_type": "markdown",
   "metadata": {},
   "source": [
    "You can see some of these intermediate steps from the `pca` instance object itself. "
   ]
  },
  {
   "cell_type": "code",
   "execution_count": 14,
   "metadata": {},
   "outputs": [
    {
     "data": {
      "text/plain": [
       "array([ 7.10542736e-17, -3.45814799e-02])"
      ]
     },
     "execution_count": 14,
     "metadata": {},
     "output_type": "execute_result"
    }
   ],
   "source": [
    "# Pulling up the original feature means which were used to center the data\n",
    "pca.mean_ "
   ]
  },
  {
   "cell_type": "code",
   "execution_count": 15,
   "metadata": {},
   "outputs": [
    {
     "data": {
      "text/plain": [
       "array([[ 34.35023637,  68.91485795],\n",
       "       [ 68.91485795, 138.48386779]])"
      ]
     },
     "execution_count": 15,
     "metadata": {},
     "output_type": "execute_result"
    }
   ],
   "source": [
    "# Pulling up the covariance matrix of the mean centered data\n",
    "pca.get_covariance() "
   ]
  },
  {
   "cell_type": "code",
   "execution_count": 16,
   "metadata": {},
   "outputs": [
    {
     "data": {
      "text/plain": [
       "array([[-0.44563608, -0.89521421],\n",
       "       [ 0.89521421, -0.44563608]])"
      ]
     },
     "execution_count": 16,
     "metadata": {},
     "output_type": "execute_result"
    }
   ],
   "source": [
    "# Pulling up the eigenvectors of the covariance matrix\n",
    "pca.components_ "
   ]
  },
  {
   "cell_type": "markdown",
   "metadata": {},
   "source": [
    "##  Summary\n",
    "In this lesson, you looked at implementing PCA with scikit-learn and the geometric interpretations of principal components. From here, you'll get a chance to practice implementing PCA yourself before going on to code some of the underlying components implemented by scikit-learn using NumPy."
   ]
  }
 ],
 "metadata": {
  "anaconda-cloud": {},
  "kernelspec": {
   "display_name": "Python 3",
   "language": "python",
   "name": "python3"
  },
  "language_info": {
   "codemirror_mode": {
    "name": "ipython",
    "version": 3
   },
   "file_extension": ".py",
   "mimetype": "text/x-python",
   "name": "python",
   "nbconvert_exporter": "python",
   "pygments_lexer": "ipython3",
   "version": "3.6.9"
  }
 },
 "nbformat": 4,
 "nbformat_minor": 4
}
